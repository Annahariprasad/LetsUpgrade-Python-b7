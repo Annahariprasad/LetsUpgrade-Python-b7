{
  "nbformat": 4,
  "nbformat_minor": 0,
  "metadata": {
    "colab": {
      "name": "Day 4 - Assignment.ipynb",
      "provenance": [],
      "authorship_tag": "ABX9TyN80eQJbjMtJ/DWcttF/xCi",
      "include_colab_link": true
    },
    "kernelspec": {
      "name": "python3",
      "display_name": "Python 3"
    }
  },
  "cells": [
    {
      "cell_type": "markdown",
      "metadata": {
        "id": "view-in-github",
        "colab_type": "text"
      },
      "source": [
        "<a href=\"https://colab.research.google.com/github/Annahariprasad/LetsUpgrade-Python-b7/blob/master/Day_4_Assignment.ipynb\" target=\"_parent\"><img src=\"https://colab.research.google.com/assets/colab-badge.svg\" alt=\"Open In Colab\"/></a>"
      ]
    },
    {
      "cell_type": "markdown",
      "metadata": {
        "id": "W7SDD8wHmwIA",
        "colab_type": "text"
      },
      "source": [
        "# Day 4 - Assignment "
      ]
    },
    {
      "cell_type": "code",
      "metadata": {
        "id": "Hp-U1_jXm3Xf",
        "colab_type": "code",
        "colab": {
          "base_uri": "https://localhost:8080/",
          "height": 35
        },
        "outputId": "592718ba-e620-4e67-ab9d-19b44d2b425a"
      },
      "source": [
        "                                                                  #ArmStrong Number\n",
        "for num in range(1042000,702648265):\n",
        "    temp=num\n",
        "    order = len(str(num))\n",
        "    sum=0\n",
        "    while temp>0:\n",
        "        digit=temp%10\n",
        "        sum+=digit**order\n",
        "        temp//=10\n",
        "    if num==sum:\n",
        "        print(\"The First Armstrong Number in a given range : \",sum)\n",
        "        break"
      ],
      "execution_count": 1,
      "outputs": [
        {
          "output_type": "stream",
          "text": [
            "The First Armstrong Number in a given range :  1741725\n"
          ],
          "name": "stdout"
        }
      ]
    }
  ]
}