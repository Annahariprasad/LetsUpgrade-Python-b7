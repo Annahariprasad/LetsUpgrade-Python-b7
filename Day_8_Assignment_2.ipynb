{
  "nbformat": 4,
  "nbformat_minor": 0,
  "metadata": {
    "colab": {
      "name": "Day 8 - Assignment 2.ipynb",
      "provenance": [],
      "authorship_tag": "ABX9TyNqxl7e5bKP07MgMaCF/C4p",
      "include_colab_link": true
    },
    "kernelspec": {
      "name": "python3",
      "display_name": "Python 3"
    }
  },
  "cells": [
    {
      "cell_type": "markdown",
      "metadata": {
        "id": "view-in-github",
        "colab_type": "text"
      },
      "source": [
        "<a href=\"https://colab.research.google.com/github/Annahariprasad/LetsUpgrade-Python-b7/blob/master/Day_8_Assignment_2.ipynb\" target=\"_parent\"><img src=\"https://colab.research.google.com/assets/colab-badge.svg\" alt=\"Open In Colab\"/></a>"
      ]
    },
    {
      "cell_type": "markdown",
      "metadata": {
        "id": "fTGfvJ9v_VSH",
        "colab_type": "text"
      },
      "source": [
        "# Day 8 - Assignment 2\n",
        "  Error Handling\n",
        "  "
      ]
    },
    {
      "cell_type": "code",
      "metadata": {
        "id": "5ULwllHI_d2X",
        "colab_type": "code",
        "colab": {
          "base_uri": "https://localhost:8080/",
          "height": 35
        },
        "outputId": "ce842f5a-df97-4e9f-accb-436b2416078c"
      },
      "source": [
        "%%writefile writtenFile.txt\n",
        "\n",
        "    Hi Friends, I am Annahari\n",
        "    I am learning python from LetsUpgrade\n",
        "    LetsUpgrade is awesome "
      ],
      "execution_count": 1,
      "outputs": [
        {
          "output_type": "stream",
          "text": [
            "Writing writtenFile.txt\n"
          ],
          "name": "stdout"
        }
      ]
    },
    {
      "cell_type": "code",
      "metadata": {
        "id": "6K-P9sgK_79S",
        "colab_type": "code",
        "colab": {
          "base_uri": "https://localhost:8080/",
          "height": 69
        },
        "outputId": "8f457847-89f8-4486-d250-2b5671744b36"
      },
      "source": [
        "try:\n",
        "    file = open('writtenFile.txt','r')\n",
        "    file.write('Hi, This is my assignment')\n",
        "    file.close()\n",
        "except Exception as error:\n",
        "    print('Hey, This is read mode only, We can\\'t write')\n",
        "    print('Error occured')\n",
        "    print('Error Message : ',error,'mode')\n"
      ],
      "execution_count": 3,
      "outputs": [
        {
          "output_type": "stream",
          "text": [
            "Hey, This is read mode only, We can't write\n",
            "Error occured\n",
            "Error Message :  not writable mode\n"
          ],
          "name": "stdout"
        }
      ]
    }
  ]
}