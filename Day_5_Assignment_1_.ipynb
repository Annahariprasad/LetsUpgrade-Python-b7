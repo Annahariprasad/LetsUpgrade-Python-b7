{
  "nbformat": 4,
  "nbformat_minor": 0,
  "metadata": {
    "colab": {
      "name": "Day 5 - Assignment 1 .ipynb",
      "provenance": [],
      "authorship_tag": "ABX9TyNOC+6u2TT8m8Qb1wRYtbRc",
      "include_colab_link": true
    },
    "kernelspec": {
      "name": "python3",
      "display_name": "Python 3"
    }
  },
  "cells": [
    {
      "cell_type": "markdown",
      "metadata": {
        "id": "view-in-github",
        "colab_type": "text"
      },
      "source": [
        "<a href=\"https://colab.research.google.com/github/Annahariprasad/LetsUpgrade-Python-b7/blob/master/Day_5_Assignment_1_.ipynb\" target=\"_parent\"><img src=\"https://colab.research.google.com/assets/colab-badge.svg\" alt=\"Open In Colab\"/></a>"
      ]
    },
    {
      "cell_type": "markdown",
      "metadata": {
        "id": "_vDZhMwtSa2j",
        "colab_type": "text"
      },
      "source": [
        "# Checking the order of the list\n",
        "# Day 5 - Assignment 1"
      ]
    },
    {
      "cell_type": "code",
      "metadata": {
        "id": "-pWCIOyNSoU6",
        "colab_type": "code",
        "colab": {
          "base_uri": "https://localhost:8080/",
          "height": 104
        },
        "outputId": "882e16b2-2973-46ee-b78a-d465b4248223"
      },
      "source": [
        "#Welcome to the Order_Match Program\n",
        "def check_order(*args):\n",
        "    list = args\n",
        "    for i in list:\n",
        "        for j in sublist:\n",
        "            if i==j:\n",
        "                sublist.pop(0)\n",
        "            else:\n",
        "                break\n",
        "    return sublist\n",
        "\n",
        "sublist = [1,1,5]\n",
        "print('1) [1,5,6,4,1,2,3,5]\\n2) [1,5,6,5,1,2,3.6]')\n",
        "option = int(input('Enter option : '))\n",
        "if option == 1:\n",
        "    a = check_order(1,5,6,4,1,2,3,5)\n",
        "    if len(a) == 0:\n",
        "        print('it\\' Match')\n",
        "        print('[1,5,6,4,1,2,3,5] is matched')\n",
        "    else:\n",
        "        print('it\\'s Gone')\n",
        "        print('[1,5,6,4,1,2,3,5] is not matched')\n",
        "elif option == 2:\n",
        "    a = check_order(1,5,6,5,1,2,3.6)\n",
        "    if len(a)==0:\n",
        "        print('it\\' Match')\n",
        "        print('[1,5,6,5,1,2,3.6] is matched')\n",
        "    else:\n",
        "        print('it\\'s Gone')\n",
        "        print('[1,5,6,5,1,2,3.6] is not matched')\n",
        "else:\n",
        "    print('Select option from 2 options only')"
      ],
      "execution_count": 6,
      "outputs": [
        {
          "output_type": "stream",
          "text": [
            "1) [1,5,6,4,1,2,3,5]\n",
            "2) [1,5,6,5,1,2,3.6]\n",
            "Enter option : 1\n",
            "it' Match\n",
            "[1,5,6,4,1,2,3,5] is matched\n"
          ],
          "name": "stdout"
        }
      ]
    },
    {
      "cell_type": "code",
      "metadata": {
        "id": "HJ3cb75qTKRE",
        "colab_type": "code",
        "colab": {
          "base_uri": "https://localhost:8080/",
          "height": 104
        },
        "outputId": "77b5232d-c978-4067-e13a-70f86b782779"
      },
      "source": [
        "#Welcome to the Order_Match Program\n",
        "def check_order(*args):\n",
        "    list = args\n",
        "    for i in list:\n",
        "        for j in sublist:\n",
        "            if i==j:\n",
        "                sublist.pop(0)\n",
        "            else:\n",
        "                break\n",
        "    return sublist\n",
        "\n",
        "sublist = [1,1,5]\n",
        "print('1) [1,5,6,4,1,2,3,5]\\n2) [1,5,6,5,1,2,3.6]')\n",
        "option = int(input('Enter option : '))\n",
        "if option == 1:\n",
        "    a = check_order(1,5,6,4,1,2,3,5)\n",
        "    if len(a) == 0:\n",
        "        print('it\\' Match')\n",
        "        print('[1,5,6,4,1,2,3,5] is matched')\n",
        "    else:\n",
        "        print('it\\'s Gone')\n",
        "        print('[1,5,6,4,1,2,3,5] is not matched')\n",
        "elif option == 2:\n",
        "    a = check_order(1,5,6,5,1,2,3.6)\n",
        "    if len(a)==0:\n",
        "        print('it\\' Match')\n",
        "        print('[1,5,6,5,1,2,3.6] is matched')\n",
        "    else:\n",
        "        print('it\\'s Gone')\n",
        "        print('[1,5,6,5,1,2,3.6] is not matched')\n",
        "else:\n",
        "    print('Select option from 2 options only')"
      ],
      "execution_count": 5,
      "outputs": [
        {
          "output_type": "stream",
          "text": [
            "1) [1,5,6,4,1,2,3,5]\n",
            "2) [1,5,6,5,1,2,3.6]\n",
            "Enter option : 2\n",
            "it's Gone\n",
            "[1,5,6,5,1,2,3.6] is not matched\n"
          ],
          "name": "stdout"
        }
      ]
    }
  ]
}