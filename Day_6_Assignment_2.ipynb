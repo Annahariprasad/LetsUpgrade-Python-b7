{
  "nbformat": 4,
  "nbformat_minor": 0,
  "metadata": {
    "colab": {
      "name": "Day 6 - Assignment 2.ipynb",
      "provenance": [],
      "collapsed_sections": [],
      "authorship_tag": "ABX9TyOezkzgRoag/oO2oyoz3jat",
      "include_colab_link": true
    },
    "kernelspec": {
      "name": "python3",
      "display_name": "Python 3"
    }
  },
  "cells": [
    {
      "cell_type": "markdown",
      "metadata": {
        "id": "view-in-github",
        "colab_type": "text"
      },
      "source": [
        "<a href=\"https://colab.research.google.com/github/Annahariprasad/LetsUpgrade-Python-b7/blob/master/Day_6_Assignment_2.ipynb\" target=\"_parent\"><img src=\"https://colab.research.google.com/assets/colab-badge.svg\" alt=\"Open In Colab\"/></a>"
      ]
    },
    {
      "cell_type": "markdown",
      "metadata": {
        "id": "Bqekw0jRVLYY",
        "colab_type": "text"
      },
      "source": [
        "# Day 6 - Assignment 2\n",
        "\n",
        "Create a Cone Class"
      ]
    },
    {
      "cell_type": "code",
      "metadata": {
        "id": "WNOLzkQYVdI5",
        "colab_type": "code",
        "colab": {
          "base_uri": "https://localhost:8080/",
          "height": 104
        },
        "outputId": "b15e67ad-e1c7-4fcb-ebcb-ccfef22a5ab2"
      },
      "source": [
        "import math\n",
        "class Cone():\n",
        "    def __init__(self,r,h):\n",
        "        self.r = r\n",
        "        self.h = h\n",
        "    def volume(self):\n",
        "        vol = 3.14*math.pow(self.r,2)*(self.h/3)\n",
        "        print('volume of the cone is : ', vol)\n",
        "    def Surfacearea(self):\n",
        "        area = 3.14*self.r*(self.r+math.sqrt(math.pow(self.r,2) + math.pow(self.h,2)))\n",
        "        print('Surface area of the cone is : ',area)\n",
        "\n",
        "Radius = int(input('Enter Radius of the cone : '))\n",
        "Height = int(input('Enter Height of the cone : '))\n",
        "print()\n",
        "cone = Cone(Radius,Height)\n",
        "cone.volume()\n",
        "cone.Surfacearea()\n"
      ],
      "execution_count": 1,
      "outputs": [
        {
          "output_type": "stream",
          "text": [
            "Enter Radius of the cone : 2\n",
            "Enter Height of the cone : 4\n",
            "\n",
            "volume of the cone is :  16.746666666666666\n",
            "Surface area of the cone is :  40.64501379739736\n"
          ],
          "name": "stdout"
        }
      ]
    }
  ]
}