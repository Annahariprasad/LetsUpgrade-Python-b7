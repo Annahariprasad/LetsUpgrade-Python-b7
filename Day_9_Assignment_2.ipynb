{
  "nbformat": 4,
  "nbformat_minor": 0,
  "metadata": {
    "colab": {
      "name": "Day 9 - Assignment 2.ipynb",
      "provenance": [],
      "authorship_tag": "ABX9TyPFj9BnHEstNcLkFDGtXTCF",
      "include_colab_link": true
    },
    "kernelspec": {
      "name": "python3",
      "display_name": "Python 3"
    }
  },
  "cells": [
    {
      "cell_type": "markdown",
      "metadata": {
        "id": "view-in-github",
        "colab_type": "text"
      },
      "source": [
        "<a href=\"https://colab.research.google.com/github/Annahariprasad/LetsUpgrade-Python-b7/blob/master/Day_9_Assignment_2.ipynb\" target=\"_parent\"><img src=\"https://colab.research.google.com/assets/colab-badge.svg\" alt=\"Open In Colab\"/></a>"
      ]
    },
    {
      "cell_type": "markdown",
      "metadata": {
        "id": "3tDbbxA_yjgf",
        "colab_type": "text"
      },
      "source": [
        "# Day 9 - Assignment 2"
      ]
    },
    {
      "cell_type": "code",
      "metadata": {
        "id": "3g_UgFEryr9j",
        "colab_type": "code",
        "colab": {
          "base_uri": "https://localhost:8080/",
          "height": 35
        },
        "outputId": "a3d2d548-1180-4cd9-e05c-6b5d174f038e"
      },
      "source": [
        "                                                                      #ArmStrong Number\n",
        "def ArmStrong(lst):\n",
        "    for num in lst:\n",
        "        temp=num\n",
        "        order = len(str(num))\n",
        "        sum=0\n",
        "        while temp>0:\n",
        "            digit=temp%10\n",
        "            sum+=digit**order\n",
        "            temp//=10\n",
        "        if num==sum:\n",
        "            yield sum\n",
        "\n",
        "lst = list(range(1,1000))\n",
        "print('ArmStrong Numbers from 1 to 1000 : ',list(ArmStrong(lst)))\n",
        "\n",
        "\n"
      ],
      "execution_count": 6,
      "outputs": [
        {
          "output_type": "stream",
          "text": [
            "ArmStrong Numbers from 1 to 1000 :  [1, 2, 3, 4, 5, 6, 7, 8, 9, 153, 370, 371, 407]\n"
          ],
          "name": "stdout"
        }
      ]
    }
  ]
}