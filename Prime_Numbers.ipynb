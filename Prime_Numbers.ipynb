{
  "nbformat": 4,
  "nbformat_minor": 0,
  "metadata": {
    "colab": {
      "name": "Prime Numbers.ipynb",
      "provenance": [],
      "authorship_tag": "ABX9TyP90wBB4N9Apx6paAT3L84Z",
      "include_colab_link": true
    },
    "kernelspec": {
      "name": "python3",
      "display_name": "Python 3"
    }
  },
  "cells": [
    {
      "cell_type": "markdown",
      "metadata": {
        "id": "view-in-github",
        "colab_type": "text"
      },
      "source": [
        "<a href=\"https://colab.research.google.com/github/Annahariprasad/LetsUpgrade-Python-b7/blob/master/Prime_Numbers.ipynb\" target=\"_parent\"><img src=\"https://colab.research.google.com/assets/colab-badge.svg\" alt=\"Open In Colab\"/></a>"
      ]
    },
    {
      "cell_type": "code",
      "metadata": {
        "id": "Zaf-BEwzDarE",
        "colab_type": "code",
        "colab": {
          "base_uri": "https://localhost:8080/",
          "height": 52
        },
        "outputId": "6a619c91-ce43-4d65-e749-67e63b37d6bf"
      },
      "source": [
        " #PRIME NUMBERS\n",
        "n=int(input('Enter Number:'))\n",
        "print('Prime Numbers: ',end='')\n",
        "for i in range(1,n):\n",
        "    for j in range(2,i):\n",
        "        if i%j==0:\n",
        "            break\n",
        "    else:\n",
        "        print(i,end=',')"
      ],
      "execution_count": 1,
      "outputs": [
        {
          "output_type": "stream",
          "text": [
            "Enter Number:20\n",
            "Prime Numbers: 1,2,3,5,7,11,13,17,19,"
          ],
          "name": "stdout"
        }
      ]
    }
  ]
}