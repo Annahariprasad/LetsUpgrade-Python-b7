{
  "nbformat": 4,
  "nbformat_minor": 0,
  "metadata": {
    "colab": {
      "name": "Day 6 - Assignment 1.ipynb",
      "provenance": [],
      "authorship_tag": "ABX9TyONWNbfEVdgVfkKwVMS1xY3",
      "include_colab_link": true
    },
    "kernelspec": {
      "name": "python3",
      "display_name": "Python 3"
    }
  },
  "cells": [
    {
      "cell_type": "markdown",
      "metadata": {
        "id": "view-in-github",
        "colab_type": "text"
      },
      "source": [
        "<a href=\"https://colab.research.google.com/github/Annahariprasad/LetsUpgrade-Python-b7/blob/master/Day_6_Assignment_1.ipynb\" target=\"_parent\"><img src=\"https://colab.research.google.com/assets/colab-badge.svg\" alt=\"Open In Colab\"/></a>"
      ]
    },
    {
      "cell_type": "markdown",
      "metadata": {
        "id": "OnKhq5Sd6I9Q",
        "colab_type": "text"
      },
      "source": [
        "# Day 6 - Assignment 1"
      ]
    },
    {
      "cell_type": "code",
      "metadata": {
        "id": "W87j9t2-6SB2",
        "colab_type": "code",
        "colab": {
          "base_uri": "https://localhost:8080/",
          "height": 139
        },
        "outputId": "7b083082-43f0-46ad-f48c-c8ec271e92bc"
      },
      "source": [
        "#Welcome to the Bank Account Program\n",
        "\n",
        "class BankAccount():\n",
        "    def __init__(self):\n",
        "        self.ownerName = 'Annahari'\n",
        "        self.balance = 0\n",
        "    def deposit(self):\n",
        "        Amount = float(input('Enter depositing balance : '))\n",
        "        #print('Amount is deposited successfully : ',Amount)\n",
        "        self.balance += Amount\n",
        "    def withdraw(self):\n",
        "        Amount = float(input('Enter how much draw your money : '))\n",
        "        if self.balance>=Amount:\n",
        "            self.balance -= Amount\n",
        "            #print('withdraw Amount',Amount)\n",
        "        else:\n",
        "            print('Insufficient balance')\n",
        "\n",
        "print(\"<----Welcome to the Bank Account---->\")\n",
        "bank = BankAccount()\n",
        "print('Account Holder Name : ',bank.ownerName)\n",
        "print('Initial Account Balance : ',bank.balance)\n",
        "print()\n",
        "bank.deposit()\n",
        "bank.withdraw()\n",
        "print('Net Available Balance : ',bank.balance)\n"
      ],
      "execution_count": 1,
      "outputs": [
        {
          "output_type": "stream",
          "text": [
            "<----Welcome to the Bank Account---->\n",
            "Account Holder Name :  Annahari\n",
            "Initial Account Balance :  0\n",
            "\n",
            "Enter depositing balance : 2500.00\n",
            "Enter how much draw your money : 1575.00\n",
            "Net Available Balance :  925.0\n"
          ],
          "name": "stdout"
        }
      ]
    }
  ]
}