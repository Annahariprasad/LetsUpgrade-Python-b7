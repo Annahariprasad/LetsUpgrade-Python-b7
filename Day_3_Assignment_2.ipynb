{
  "nbformat": 4,
  "nbformat_minor": 0,
  "metadata": {
    "colab": {
      "name": "Day 2- Assignmen.ipynb",
      "provenance": [],
      "authorship_tag": "ABX9TyP90wBB4N9Apx6paAT3L84Z"
    },
    "kernelspec": {
      "name": "python3",
      "display_name": "Python 3"
    }
  },
  "cells": [
    {
      "cell_type": "code",
      "metadata": {
        "id": "Zaf-BEwzDarE",
        "colab_type": "code",
        "colab": {
          "base_uri": "https://localhost:8080/",
          "height": 72
        },
        "outputId": "f893dd17-d4b7-4330-e2e8-52ea8251504f"
      },
      "source": [
        " #PRIME NUMBERS\n",
        "n=int(input('Enter Number:'))\n",
        "print('Prime Numbers: ',end='')\n",
        "for i in range(1,n):\n",
        "    for j in range(2,i):\n",
        "        if i%j==0:\n",
        "            break\n",
        "    else:\n",
        "        print(i,end=',')"
      ],
      "execution_count": 2,
      "outputs": [
        {
          "output_type": "stream",
          "text": [
            "Enter Number:201\n",
            "Prime Numbers: 1,2,3,5,7,11,13,17,19,23,29,31,37,41,43,47,53,59,61,67,71,73,79,83,89,97,101,103,107,109,113,127,131,137,139,149,151,157,163,167,173,179,181,191,193,197,199,"
          ],
          "name": "stdout"
        }
      ]
    }
  ]
}
