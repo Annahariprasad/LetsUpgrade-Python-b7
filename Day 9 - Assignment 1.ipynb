{
 "metadata": {
  "language_info": {
   "codemirror_mode": {
    "name": "ipython",
    "version": 3
   },
   "file_extension": ".py",
   "mimetype": "text/x-python",
   "name": "python",
   "nbconvert_exporter": "python",
   "pygments_lexer": "ipython3",
   "version": "3.8.5-final"
  },
  "orig_nbformat": 2,
  "kernelspec": {
   "name": "python38564bit2ae5a5b921c748d9aab9dd213632acc0",
   "display_name": "Python 3.8.5 64-bit"
  }
 },
 "nbformat": 4,
 "nbformat_minor": 2,
 "cells": [
  {
   "cell_type": "code",
   "execution_count": 117,
   "metadata": {
    "tags": []
   },
   "outputs": [
    {
     "output_type": "stream",
     "name": "stdout",
     "text": "Overwriting prime_number.py\n"
    }
   ],
   "source": [
    "%%writefile prime_number.py\n",
    "\n",
    "'''\n",
    "This is a python file for Checking the given number is prime number or not.\n",
    "'''\n",
    "\n",
    "def check_prime(number):\n",
    "    '''\n",
    "    Function to check for prime number.\n",
    "    '''\n",
    "    if number >= 1:\n",
    "        for i in range(2, number):\n",
    "            if (number % i) == 0:\n",
    "                final_result=\"Not Prime\"\n",
    "            else:\n",
    "                final_result=\"Prime\"\n",
    "    else:\n",
    "        final_result=\"Not Prime\"\n",
    "    return final_result"
   ]
  },
  {
   "cell_type": "code",
   "execution_count": 118,
   "metadata": {
    "tags": []
   },
   "outputs": [
    {
     "output_type": "stream",
     "name": "stdout",
     "text": "\n--------------------------------------------------------------------\n\nYour code has been rated at 10.00/10 (previous run: 10.00/10, +0.00)\n\n\n\n"
    }
   ],
   "source": [
    "! pylint \"prime_number.py\"\n"
   ]
  },
  {
   "cell_type": "code",
   "execution_count": 122,
   "metadata": {
    "tags": []
   },
   "outputs": [
    {
     "output_type": "stream",
     "name": "stdout",
     "text": "Prime Number\n"
    }
   ],
   "source": [
    "import prime_number\n",
    "\n",
    "print(prime_number.check_prime(5))\n"
   ]
  },
  {
   "cell_type": "code",
   "execution_count": 125,
   "metadata": {
    "tags": []
   },
   "outputs": [
    {
     "output_type": "stream",
     "name": "stdout",
     "text": "Overwriting prime_UnitTest.py\n"
    }
   ],
   "source": [
    "%%writefile prime_UnitTest.py\n",
    "\n",
    "import unittest\n",
    "import prime_number\n",
    "\n",
    "class test_Check_Prime(unittest.TestCase):\n",
    "    def testSingleDigit(self):\n",
    "        a = 5\n",
    "        result = prime_number.check_prime(a)\n",
    "        self.assertEquals(result, 'Prime')\n",
    "    def testDoubleDigit(self):\n",
    "        a = 11\n",
    "        b = prime_number.check_prime(a)\n",
    "        self.assertEquals(b, 'Prime')\n",
    "\n",
    "if __name__ == \"__main__\":\n",
    "    unittest.main()"
   ]
  },
  {
   "cell_type": "code",
   "execution_count": 126,
   "metadata": {
    "tags": []
   },
   "outputs": [
    {
     "output_type": "stream",
     "name": "stderr",
     "text": "..\n----------------------------------------------------------------------\nRan 2 tests in 0.000s\n\nOK\n"
    }
   ],
   "source": [
    "!python  prime_UnitTest.py"
   ]
  },
  {
   "cell_type": "code",
   "execution_count": null,
   "metadata": {},
   "outputs": [],
   "source": []
  }
 ]
}