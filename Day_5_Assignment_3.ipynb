{
  "nbformat": 4,
  "nbformat_minor": 0,
  "metadata": {
    "colab": {
      "name": "Day 5 - Assignment 3.ipynb",
      "provenance": [],
      "authorship_tag": "ABX9TyPhBrqGNSpt9Xr7mf1+mjQf",
      "include_colab_link": true
    },
    "kernelspec": {
      "name": "python3",
      "display_name": "Python 3"
    }
  },
  "cells": [
    {
      "cell_type": "markdown",
      "metadata": {
        "id": "view-in-github",
        "colab_type": "text"
      },
      "source": [
        "<a href=\"https://colab.research.google.com/github/Annahariprasad/LetsUpgrade-Python-b7/blob/master/Day_5_Assignment_3.ipynb\" target=\"_parent\"><img src=\"https://colab.research.google.com/assets/colab-badge.svg\" alt=\"Open In Colab\"/></a>"
      ]
    },
    {
      "cell_type": "code",
      "metadata": {
        "id": "QsJw8w-P3JyY",
        "colab_type": "code",
        "colab": {
          "base_uri": "https://localhost:8080/",
          "height": 35
        },
        "outputId": "df7752cd-b38e-421f-cfed-9bbe269b868b"
      },
      "source": [
        "list=['hey this is sai','I am in mumbai','i am learning python from letsupgrade']\n",
        "capitalize = lambda list : list.title()\n",
        "\n",
        "caps = map(capitalize,list)\n",
        "caps_list = []\n",
        "for i in caps:\n",
        "    caps_list.append(i)\n",
        "\n",
        "print(caps_list)"
      ],
      "execution_count": 1,
      "outputs": [
        {
          "output_type": "stream",
          "text": [
            "['Hey This Is Sai', 'I Am In Mumbai', 'I Am Learning Python From Letsupgrade']\n"
          ],
          "name": "stdout"
        }
      ]
    }
  ]
}